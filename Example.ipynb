{
 "cells": [
  {
   "cell_type": "code",
   "execution_count": 1,
   "metadata": {},
   "outputs": [],
   "source": [
    "import cv2\n",
    "import imutils\n",
    "from panorama_maker import Stitcher"
   ]
  },
  {
   "cell_type": "code",
   "execution_count": null,
   "metadata": {},
   "outputs": [],
   "source": [
    "img_1_path = '.\\Data\\pan1.jpg'\n",
    "img_2_path = '.\\Data\\pan2.jpg'\n",
    "img_3_path = '.\\Data\\pan3.jpg'\n",
    "img_4_path = '.\\Data\\pan4.jpg'\n",
    "img_34_path = '.\\Data\\pan34.jpg'\n",
    "img_234_path = '.\\Data\\pan234.jpg'\n",
    "img_full_pan_path = '.\\Data\\pan1234.jpg'\n",
    "\n",
    "path_list = [[img_3_path, img_4_path], \n",
    "             [img_2_path, img_34_path],\n",
    "             [img_1_path, img_234_path]]\n",
    "\n",
    "for i in range(len(path_list)):\n",
    "    imageA = cv2.imread(path_list[i][0])\n",
    "    imageB = cv2.imread(path_list[i][1])\n",
    "    imageA = imutils.resize(imageA, height=3000)\n",
    "    imageB = imutils.resize(imageB, height=3000)\n",
    "\n",
    "    # stitch the images together to create a panorama\n",
    "    stitcher = Stitcher()\n",
    "    (result, vis) = stitcher.stitch([imageA, imageB], showMatches=True, ratio=0.75)\n",
    "    if i == len(path_list) - 1:\n",
    "        cv2.imwrite(img_full_pan_path, result)\n",
    "    else:\n",
    "        cv2.imwrite(path_list[i + 1][1], result)"
   ]
  }
 ],
 "metadata": {
  "interpreter": {
   "hash": "4e360c72847d74feb5018d442d3edb9f3393b8042d1f31752d8b654a87c4eaf2"
  },
  "kernelspec": {
   "display_name": "Python 3.9.7 64-bit ('base': conda)",
   "language": "python",
   "name": "python3"
  },
  "language_info": {
   "codemirror_mode": {
    "name": "ipython",
    "version": 3
   },
   "file_extension": ".py",
   "mimetype": "text/x-python",
   "name": "python",
   "nbconvert_exporter": "python",
   "pygments_lexer": "ipython3",
   "version": "3.6.13"
  },
  "orig_nbformat": 4
 },
 "nbformat": 4,
 "nbformat_minor": 2
}
